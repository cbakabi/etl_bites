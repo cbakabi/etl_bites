{
 "cells": [
  {
   "cell_type": "code",
   "execution_count": 9,
   "metadata": {},
   "outputs": [],
   "source": [
    "import pandas as pd \n",
    "import psycopg2"
   ]
  },
  {
   "cell_type": "code",
   "execution_count": null,
   "metadata": {},
   "outputs": [],
   "source": [
    "%load_ext sql\n",
    "%sql postgresql+psycopg2://postgres-readonly:ZY>[#4Bmx0AFDOkE@etl-relational-database.cfmnnswnfhpn.eu-west-2.rds.amazonaws.com/postgres\n"
   ]
  },
  {
   "cell_type": "code",
   "execution_count": null,
   "metadata": {},
   "outputs": [],
   "source": [
    "%sql select facid as \"Facility ID\", COUNT(starttime) as \"Total Bookings\" from bookings group by facid order by facid limit 1000\n"
   ]
  },
  {
   "cell_type": "code",
   "execution_count": 13,
   "metadata": {},
   "outputs": [],
   "source": [
    "conn_params = {\n",
    "    'host': 'etl-relational-database.cfmnnswnfhpn.eu-west-2.rds.amazonaws.com',\n",
    "    'dbname': 'postgres',\n",
    "    'user': 'postgres-readonly',\n",
    "    'password': 'ZY>[#4Bmx0AFDOkE'\n",
    "}\n",
    "\n",
    "analytical_database_conn_params = {\n",
    "    'host': 'localhost',\n",
    "    'dbname': 'etl_bites',\n",
    "    'user': '',\n",
    "    'password': ''\n",
    "\n",
    "}"
   ]
  },
  {
   "cell_type": "code",
   "execution_count": 14,
   "metadata": {},
   "outputs": [],
   "source": [
    "def fetch_data(query):\n",
    "    with psycopg2.connect(**conn_params) as conn:\n",
    "        with conn.cursor() as cur:\n",
    "            cur.execute(query)\n",
    "            data = cur.fetchall()\n",
    "            colnames = [desc[0] for desc in cur.description]\n",
    "    return data, colnames\n",
    "\n",
    "\n",
    "def execute_query_postgresql(query):\n",
    "    with psycopg2.connect(**analytical_database_conn_params) as conn:\n",
    "        with conn.cursor() as cur:\n",
    "            cur.execute(query)\n",
    "            conn.commit()\n"
   ]
  },
  {
   "cell_type": "code",
   "execution_count": null,
   "metadata": {},
   "outputs": [],
   "source": [
    "# Extract bookings data\n",
    "query = \"SELECT facid FROM bookings;\"\n",
    "bookings_data, colnames = fetch_data(query)\n",
    "bookings_df = pd.DataFrame(bookings_data, columns=colnames)\n",
    "\n",
    "# Transform data: Count bookings per facility\n",
    "booking_counts_per_facility = bookings_df.groupby('facid').size().reset_index(name='TotalBookings')\n",
    "\n",
    "# Load the results into your destination database for reporting.\n",
    "# Define the table structure for the destination database\n",
    "create_booking_counts_table = '''\n",
    "CREATE TABLE IF NOT EXISTS booking_counts_per_facility (\n",
    "    FacilityID INTEGER NOT NULL,\n",
    "    TotalBookings INTEGER NOT NULL\n",
    ");\n",
    "'''\n",
    "\n",
    "execute_query_postgresql(create_booking_counts_table)\n",
    "\n",
    "def insert_data_to_postgresql(data, connection):\n",
    "    cursor = connection.cursor()\n",
    "    query = \"INSERT INTO booking_counts_per_facility (FacilityID, TotalBookings) VALUES (%s, %s)\"\n",
    "    for facilityid, row in booking_counts_per_facility.iterrows():\n",
    "        total_booking = int(row['TotalBookings'])\n",
    "        cursor.execute(query, (facilityid, total_booking))    \n",
    "    connection.commit()\n",
    "\n",
    "etl_bites_conn_string = \"host='localhost' port='5432' dbname='etl_bites' user='' password=''\"\n",
    "conn = psycopg2.connect(etl_bites_conn_string)\n",
    "\n",
    "insert_data_to_postgresql((booking_counts_per_facility), conn)\n",
    "\n"
   ]
  }
 ],
 "metadata": {
  "kernelspec": {
   "display_name": "etl_bites_venv",
   "language": "python",
   "name": "python3"
  },
  "language_info": {
   "codemirror_mode": {
    "name": "ipython",
    "version": 3
   },
   "file_extension": ".py",
   "mimetype": "text/x-python",
   "name": "python",
   "nbconvert_exporter": "python",
   "pygments_lexer": "ipython3",
   "version": "3.12.6"
  }
 },
 "nbformat": 4,
 "nbformat_minor": 2
}
