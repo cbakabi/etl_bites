{
 "cells": [
  {
   "cell_type": "code",
   "execution_count": 1,
   "metadata": {},
   "outputs": [],
   "source": [
    "import pandas as pd \n",
    "import psycopg2"
   ]
  },
  {
   "cell_type": "code",
   "execution_count": 2,
   "metadata": {},
   "outputs": [],
   "source": [
    "conn_params = {\n",
    "    'host': 'etl-relational-database.cfmnnswnfhpn.eu-west-2.rds.amazonaws.com',\n",
    "    'dbname': 'postgres',\n",
    "    'user': 'postgres-readonly',\n",
    "    'password': 'ZY>[#4Bmx0AFDOkE'\n",
    "}\n",
    "\n",
    "analytical_database_conn_params = {\n",
    "    'host': 'localhost',\n",
    "    'dbname': 'etl_bites',\n",
    "    'user': '',\n",
    "    'password': ''\n",
    "}\n"
   ]
  },
  {
   "cell_type": "code",
   "execution_count": 3,
   "metadata": {},
   "outputs": [],
   "source": [
    "def fetch_data(query):\n",
    "    with psycopg2.connect(**conn_params) as conn:\n",
    "        with conn.cursor() as cur:\n",
    "            cur.execute(query)\n",
    "            data = cur.fetchall()\n",
    "            colnames = [desc[0] for desc in cur.description]\n",
    "    return data, colnames\n",
    "\n",
    "\n",
    "def execute_query_postgresql(query):\n",
    "    with psycopg2.connect(**conn_params) as conn:\n",
    "        with conn.cursor() as cur:\n",
    "            cur.execute(query)\n",
    "            conn.commit()\n",
    "\n"
   ]
  },
  {
   "cell_type": "code",
   "execution_count": null,
   "metadata": {},
   "outputs": [],
   "source": [
    "# Extract\n",
    "\n",
    "extract_sql_query = \"\"\"SELECT facid, slots FROM bookings;\"\"\"\n",
    "\n",
    "bookings_data, colnames = fetch_data(extract_sql_query)\n",
    "bookings_df = pd.DataFrame(bookings_data, columns=colnames)\n",
    "\n",
    "bookings_df['booking_duration'] = bookings_df['slots'] * 30\n",
    "total_booking_duration_per_facility = bookings_df.groupby('facid')['booking_duration'].sum().reset_index()\n",
    "total_booking_duration_per_facility.columns = ['FacilityID', 'TotalBookingDurationInMinutes']\n",
    "\n",
    "total_booking_duration_per_facility"
   ]
  },
  {
   "cell_type": "code",
   "execution_count": null,
   "metadata": {},
   "outputs": [],
   "source": [
    "create_total_duration_table = '''\n",
    "CREATE TABLE IF NOT EXISTS total_booking_duration (\n",
    "    FacilityID INTEGER NOT NULL,\n",
    "    TotalBookingDurationInMinutes INTEGER NOT NULL\n",
    ");\n",
    "'''\n",
    "\n",
    "execute_query_postgresql(create_total_duration_table)"
   ]
  },
  {
   "cell_type": "code",
   "execution_count": null,
   "metadata": {},
   "outputs": [],
   "source": [
    "def insert_data(table_name, data, columns):\n",
    "    with psycopg2.connect(**conn_params) as conn:\n",
    "        with conn.cursor() as cur:\n",
    "            for row in data.itertuples(index=False):\n",
    "                insert_query = f\"INSERT INTO {table_name} ({', '.join(columns)}) VALUES ({', '.join(['%s'] * len(columns))});\"\n",
    "                cur.execute(insert_query, row)\n",
    "            conn.commit()\n",
    "\n",
    "# Insert the transformed data into the analytical database\n",
    "insert_data('booking_duration', total_booking_duration_per_facility, ['FacilityID', 'TotalBookingDurationInMinutes'])"
   ]
  }
 ],
 "metadata": {
  "kernelspec": {
   "display_name": "etl_bites_venv",
   "language": "python",
   "name": "python3"
  },
  "language_info": {
   "codemirror_mode": {
    "name": "ipython",
    "version": 3
   },
   "file_extension": ".py",
   "mimetype": "text/x-python",
   "name": "python",
   "nbconvert_exporter": "python",
   "pygments_lexer": "ipython3",
   "version": "3.12.6"
  }
 },
 "nbformat": 4,
 "nbformat_minor": 2
}
